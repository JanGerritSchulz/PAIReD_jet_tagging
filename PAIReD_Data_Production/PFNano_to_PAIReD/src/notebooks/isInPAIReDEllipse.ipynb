{
 "cells": [
  {
   "cell_type": "markdown",
   "id": "5c438209-7c17-44f8-96fd-6eb938baaace",
   "metadata": {},
   "source": [
    "# Test `isInPAIReD()` for the example of a PAIReDEllipse"
   ]
  },
  {
   "cell_type": "code",
   "execution_count": 1,
   "id": "2e45a496",
   "metadata": {},
   "outputs": [],
   "source": [
    "# import all modules needed\n",
    "import numpy as np\n",
    "import awkward as ak\n",
    "import uproot\n",
    "import vector\n",
    "vector.register_awkward()"
   ]
  },
  {
   "cell_type": "code",
   "execution_count": 2,
   "id": "0f3e8347",
   "metadata": {},
   "outputs": [],
   "source": [
    "import sys\n",
    "sys.path.insert(0, '..')\n",
    "from tools.helpers import Phi_mpi_pi, deltaPhi, deltaR, shiftPhi"
   ]
  },
  {
   "cell_type": "markdown",
   "id": "003b2caf-c307-4cd4-a6a0-9a8088b5c73e",
   "metadata": {},
   "source": [
    "### Load example inputs"
   ]
  },
  {
   "cell_type": "code",
   "execution_count": 4,
   "id": "ed4d9fa1-6974-4e59-addf-870f0a0df09d",
   "metadata": {},
   "outputs": [],
   "source": [
    "# example inputs\n",
    "inputFilePath = '../../data/example_PFNano_mcRun3_EE_allPF_noBTV.root'\n",
    "inputTree = uproot.open(inputFilePath)['Events']\n",
    "\n",
    "inputBranchNames = [\"PFCands_phi\", \"PFCands_eta\", \"PFCands_pt\",\n",
    "                    \"PFCands_puppiWeight\", \"Jet_mass\",\n",
    "                    \"Jet_eta\", \"Jet_phi\", \"Jet_pt\", \"Jet_nConstituents\",\n",
    "                    \"Jet_jetId\", \"nJet\"]\n",
    "\n",
    "\n",
    "# load example event\n",
    "i = 6\n",
    "Event = inputTree.arrays(inputBranchNames, entry_start=0, entry_stop=i+1)"
   ]
  },
  {
   "cell_type": "code",
   "execution_count": 5,
   "id": "88b0bbd3-df4a-4ba2-a72c-860b54c36394",
   "metadata": {},
   "outputs": [],
   "source": [
    "# sort the particles according to their pt\n",
    "s = ak.argsort(Event.PFCands_pt, ascending=False, axis=1)\n",
    "# and only include particles not considered pileup\n",
    "s = s[Event.PFCands_puppiWeight[s] != 0]\n",
    "phi_p = Event.PFCands_phi[s]\n",
    "eta_p = Event.PFCands_eta[s]\n",
    "\n",
    "# define 4-vector for jets in order to calculate the energy\n",
    "Jcut = (Event.Jet_pt > 20) & (abs(Event.Jet_eta) < 2.5) & (Event.Jet_jetId > 4)\n",
    "J4 = vector.zip({\"eta\": Event.Jet_eta[Jcut], \"phi\": Event.Jet_phi[Jcut],\n",
    "        \"pt\": Event.Jet_pt[Jcut], \"mass\": Event.Jet_mass[Jcut]})\n",
    "# create jet object\n",
    "J = ak.zip({\"phi\": Event.Jet_phi[Jcut], \"eta\": Event.Jet_eta[Jcut],\n",
    "        \"pt\": Event.Jet_pt[Jcut], \"energy\": J4.E,\n",
    "        \"nparticles\": Event.Jet_nConstituents[Jcut],\n",
    "        \"index\": ak.Array([np.arange(njet) for njet in Event.nJet])[Jcut]})\n",
    "# get all jet pair combinations\n",
    "J = ak.combinations(J, 2, axis=1, fields=[\"j1\", \"j2\"],\n",
    "        replacement=False)\n",
    "\n",
    "eta_j1 = J.j1.eta\n",
    "eta_j2 = J.j2.eta\n",
    "phi_j1 = J.j1.phi\n",
    "phi_j2 = J.j2.phi\n",
    "\n",
    "semimajoradd = 1."
   ]
  },
  {
   "cell_type": "markdown",
   "id": "66e4f2f6-0448-4141-a4df-40c35d6fe306",
   "metadata": {},
   "source": [
    "### Add dimensions"
   ]
  },
  {
   "cell_type": "code",
   "execution_count": 6,
   "id": "6c210d7f-3cb9-4ea1-ab3a-be339c63aeed",
   "metadata": {},
   "outputs": [
    {
     "name": "stdout",
     "output_type": "stream",
     "text": [
      "type of j arrays: 7 * var * 1 * float32\n",
      "type of p arrays: 7 * 1 * var * float32\n"
     ]
    }
   ],
   "source": [
    "# in order to be able to broadcast the arrays with the particle arrays to\n",
    "# the format\n",
    "# (N_events, N_jetpairs, N_particles),\n",
    "# we have to add one dimension to the jet related data. So, we have to add a\n",
    "# one:\n",
    "# (N_events, N_jetpairs) -> (N_events, N_jetpairs, 1)\n",
    "eta_j1 = ak.unflatten(eta_j1, 1, axis=-1)\n",
    "eta_j2 = ak.unflatten(eta_j2, 1, axis=-1)\n",
    "phi_j1 = ak.unflatten(phi_j1, 1, axis=-1)\n",
    "phi_j2 = ak.unflatten(phi_j2, 1, axis=-1)\n",
    "# and add one to the particle related data:\n",
    "# (N_events, N_particles) -> (N_events, 1, N_particles)\n",
    "eta_p = ak.unflatten(eta_p, 1, axis=0)\n",
    "phi_p = ak.unflatten(phi_p, 1, axis=0)\n",
    "\n",
    "print(\"type of j arrays:\", eta_j1.type)\n",
    "print(\"type of p arrays:\", eta_p.type)"
   ]
  },
  {
   "cell_type": "markdown",
   "id": "e410b410-abba-498b-b8f2-8f41d1b175d6",
   "metadata": {},
   "source": [
    "### Determine focal points of the ellipse"
   ]
  },
  {
   "cell_type": "code",
   "execution_count": 7,
   "id": "4402945d-3c6d-4aab-bf84-6b1e5479893f",
   "metadata": {},
   "outputs": [],
   "source": [
    "# distance in between the jets 1 and 2\n",
    "d_12 = deltaR(eta_j1, eta_j2, phi_j1, phi_j2)\n",
    "\n",
    "# semiminor and semimajor axis of the enveloping ellipse\n",
    "semiminor = 1.5\n",
    "semimajor = np.maximum(semiminor, d_12/2 + semimajoradd)\n",
    "\n",
    "# distance of focus points to center\n",
    "focus = np.sqrt(semimajor**2 - semiminor**2)\n",
    "\n",
    "# center point\n",
    "eta_c = (eta_j1 + eta_j2) / 2\n",
    "phi_c = Phi_mpi_pi(phi_j1 + Phi_mpi_pi(phi_j2-phi_j1) / 2)\n",
    "\n",
    "# focus 1\n",
    "eta_f1 = eta_c + focus / (d_12/2) * (eta_j1-eta_c)\n",
    "phi_f1 = Phi_mpi_pi(phi_c + focus/(d_12/2) * deltaPhi(phi_j1, phi_c))\n",
    "\n",
    "# focus 2\n",
    "eta_f2 = eta_c + focus / (d_12/2) * (eta_j2-eta_c)\n",
    "phi_f2 = Phi_mpi_pi(phi_c + focus/(d_12/2) * deltaPhi(phi_j2, phi_c))"
   ]
  },
  {
   "cell_type": "markdown",
   "id": "fa0015a8-0373-47b4-9d16-76775bc4e23b",
   "metadata": {},
   "source": [
    "### Shift particles in phi direction"
   ]
  },
  {
   "cell_type": "code",
   "execution_count": 8,
   "id": "a2f16dec-592f-400e-be5c-95196fe80f3c",
   "metadata": {},
   "outputs": [],
   "source": [
    "# in order to treat the jump in the phi space from phi=pi to phi=-pi\n",
    "# correctly, the phi values of the particles might have to be shifted:\n",
    "#if phi_c >= 0:\n",
    "#    shift = 2*np.pi\n",
    "#    lim = phi_c - np.pi\n",
    "#else:\n",
    "#    shift = -2*np.pi\n",
    "#    lim = phi_c + np.pi\n",
    "\n",
    "# define shift and lim according to the upper if statement\n",
    "shift = 2*np.pi * (phi_c>=0) - 2*np.pi * (phi_c<0)\n",
    "lim = phi_c - np.pi * (phi_c>=0) + np.pi * (phi_c<0)\n",
    "\n",
    "# eventually shift phi_p\n",
    "phi_p = shiftPhi(phi_p, shift, lim)"
   ]
  },
  {
   "cell_type": "markdown",
   "id": "14ea215c-1a47-401e-aa9b-85876603bd74",
   "metadata": {},
   "source": [
    "### Calculate the distances between particles and focal points"
   ]
  },
  {
   "cell_type": "code",
   "execution_count": 9,
   "id": "c732a56a-2739-406b-90d5-8cc91049d61a",
   "metadata": {},
   "outputs": [],
   "source": [
    "# Distances to the focus points\n",
    "d_f1 = np.hypot(eta_p-eta_f1, phi_p-shiftPhi(phi_f1, shift, lim))\n",
    "d_f2 = np.hypot(eta_p-eta_f2, phi_p-shiftPhi(phi_f2, shift, lim))\n",
    "d_sum = d_f1 + d_f2"
   ]
  },
  {
   "cell_type": "markdown",
   "id": "32e9a845-76af-4862-b744-44e6944be0e5",
   "metadata": {},
   "source": [
    "### Return results"
   ]
  },
  {
   "cell_type": "code",
   "execution_count": 10,
   "id": "81257b29-44d4-47fd-ac58-5a0b4e912078",
   "metadata": {},
   "outputs": [
    {
     "data": {
      "text/html": [
       "<pre>[[],\n",
       " [],\n",
       " [[False, True, False, True, True, ..., True, False, False, False, False], ...],\n",
       " [],\n",
       " [[False, True, True, False, True, ..., False, False, False, False], ...],\n",
       " [[False, False, True, True, True, True, ..., False, True, True, False, False]],\n",
       " [[True, False, False, True, False, ..., False, False, False, False], ...]]\n",
       "--------------------------------------------------------------------------------\n",
       "type: 7 * var * var * bool</pre>"
      ],
      "text/plain": [
       "<Array [[], ..., [[True, False, ..., False], ...]] type='7 * var * var * bool'>"
      ]
     },
     "execution_count": 10,
     "metadata": {},
     "output_type": "execute_result"
    }
   ],
   "source": [
    "# if particle is in the ellipse,\n",
    "# the sum of the distances will be less than 2*semimajor\n",
    "inEllipse = d_sum < 2*semimajor\n",
    "inEllipse"
   ]
  },
  {
   "cell_type": "code",
   "execution_count": 12,
   "id": "ddeeecf2-aecc-4bcc-b1e3-8df76947238f",
   "metadata": {},
   "outputs": [
    {
     "data": {
      "text/html": [
       "<pre>[[False, True, False, True, True, False, ..., True, False, False, False, False],\n",
       " [False, False, False, True, True, ..., True, False, False, False, False],\n",
       " [False, False, False, True, True, False, ..., True, False, True, False, False],\n",
       " [True, True, False, False, False, ..., False, False, False, False, False],\n",
       " [True, True, False, False, False, ..., False, False, False, False, False],\n",
       " [False, False, False, False, False, ..., False, False, True, False, False]]\n",
       "--------------------------------------------------------------------------------\n",
       "type: 6 * var * bool</pre>"
      ],
      "text/plain": [
       "<Array [[False, True, False, ..., False, False], ...] type='6 * var * bool'>"
      ]
     },
     "execution_count": 12,
     "metadata": {},
     "output_type": "execute_result"
    }
   ],
   "source": [
    "inEllipse[2]"
   ]
  },
  {
   "cell_type": "markdown",
   "id": "9879c6c3-8f58-42b6-8869-290fac33e20a",
   "metadata": {},
   "source": [
    "# Check output"
   ]
  },
  {
   "cell_type": "code",
   "execution_count": 13,
   "id": "8450a568-a1cc-49cb-938c-13b51592393e",
   "metadata": {},
   "outputs": [],
   "source": [
    "import matplotlib.pyplot as plt"
   ]
  },
  {
   "cell_type": "code",
   "execution_count": 14,
   "id": "5e8f9cd7-005a-4fe3-977a-c324e3846854",
   "metadata": {},
   "outputs": [],
   "source": [
    "eta_p, inEllipse = ak.broadcast_arrays(eta_p, inEllipse)\n",
    "phi_p, inEllipse = ak.broadcast_arrays(phi_p, inEllipse)"
   ]
  },
  {
   "cell_type": "code",
   "execution_count": 16,
   "id": "e8d981ab-2743-4044-a0de-1e759ab9655a",
   "metadata": {},
   "outputs": [
    {
     "data": {
      "text/plain": [
       "<matplotlib.legend.Legend at 0x7fa4f9d3b820>"
      ]
     },
     "execution_count": 16,
     "metadata": {},
     "output_type": "execute_result"
    },
    {
     "data": {
      "image/png": "[encoded data removed]",
      "text/plain": [
       "<Figure size 640x480 with 1 Axes>"
      ]
     },
     "metadata": {},
     "output_type": "display_data"
    }
   ],
   "source": [
    "e = 2   # Event\n",
    "i = 1   # jetpair\n",
    "\n",
    "plt.scatter(eta_p[e,i], Phi_mpi_pi(phi_p[e,i]), color=\"k\", marker=\".\" , label=\"all particles\")\n",
    "plt.scatter(eta_p[inEllipse][e,i], Phi_mpi_pi(phi_p[inEllipse][e,i]), color=\"r\", marker=\"x\", label=\"selected particles\")\n",
    "plt.scatter([eta_j1[e,i], eta_j2[e,i]], [phi_j1[e,i], phi_j2[e,i]], color=\"deepskyblue\", marker=\"*\", label=\"jet pair\")\n",
    "plt.legend()"
   ]
  },
  {
   "cell_type": "markdown",
   "id": "70cd00a1-8404-41bd-8700-3c4f7b838746",
   "metadata": {},
   "source": [
    "### Check out the shift phi effect"
   ]
  },
  {
   "cell_type": "code",
   "execution_count": 17,
   "id": "a2a79d51-1d18-4e68-807a-01a183e6b082",
   "metadata": {},
   "outputs": [
    {
     "data": {
      "image/png": "[encoded data removed]",
      "text/plain": [
       "<Figure size 640x480 with 1 Axes>"
      ]
     },
     "metadata": {},
     "output_type": "display_data"
    },
    {
     "data": {
      "image/png": "[encoded data removed]",
      "text/plain": [
       "<Figure size 640x480 with 1 Axes>"
      ]
     },
     "metadata": {},
     "output_type": "display_data"
    }
   ],
   "source": [
    "from tools.helpers import Phi_mpi_pi, deltaPhi, deltaR, shiftPhi\n",
    "import numpy as np\n",
    "import matplotlib.pyplot as plt\n",
    "\n",
    "η = np.linspace(-2.5, 2.5)\n",
    "ϕ = np.linspace(-np.pi, np.pi)\n",
    "η, ϕ = np.meshgrid(η, ϕ)\n",
    "\n",
    "η1, ϕ1 = 1, 1\n",
    "η2, ϕ2 = -1, -3\n",
    "ϕc = Phi_mpi_pi(ϕ1 + Phi_mpi_pi(ϕ2-ϕ1) / 2)\n",
    "\n",
    "shift = 2*np.pi * (ϕc>=0) - 2*np.pi * (ϕc<0)\n",
    "lim = ϕc - np.pi * (ϕc>=0) + np.pi * (ϕc<0)\n",
    "\n",
    "ϕ_shifted = shiftPhi(ϕ, shift, lim) #-ϕc\n",
    "ϕ1_shifted = shiftPhi(ϕ1, shift, lim) #-ϕc\n",
    "ϕ2_shifted = shiftPhi(ϕ2, shift, lim) #-ϕc\n",
    "\n",
    "plt.figure()\n",
    "plt.plot(η, ϕ, \".k\")\n",
    "#plt.plot(η, ϕ_shifted, \"xg\")\n",
    "plt.plot([η1,η2], [ϕ1, ϕ2], \"or\")\n",
    "plt.axhline(ϕc, -2.5, 2.5, color=\"b\")\n",
    "plt.xlabel(\"η\")\n",
    "plt.ylabel(\"ϕ\")\n",
    "plt.show()\n",
    "\n",
    "plt.figure()\n",
    "#plt.plot(η, ϕ, \".k\")\n",
    "plt.plot(η, ϕ_shifted, \".g\")\n",
    "plt.plot([η1,η2], [ϕ1_shifted, ϕ2_shifted], \"or\")\n",
    "plt.axhline(ϕc, -2.5, 2.5, color=\"b\")\n",
    "plt.xlabel(\"η\")\n",
    "plt.ylabel(\"ϕ\")\n",
    "plt.show()"
   ]
  }
 ],
 "metadata": {
  "kernelspec": {
   "display_name": "Python 3 (ipykernel)",
   "language": "python",
   "name": "python3"
  },
  "language_info": {
   "codemirror_mode": {
    "name": "ipython",
    "version": 3
   },
   "file_extension": ".py",
   "mimetype": "text/x-python",
   "name": "python",
   "nbconvert_exporter": "python",
   "pygments_lexer": "ipython3",
   "version": "3.10.13"
  }
 },
 "nbformat": 4,
 "nbformat_minor": 5
}
